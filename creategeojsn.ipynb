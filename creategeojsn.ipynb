{
 "cells": [
  {
   "cell_type": "code",
   "execution_count": null,
   "id": "b9041ec7",
   "metadata": {},
   "outputs": [],
   "source": [
    "# code by Ayu Agustina - Juni 2025\n",
    "\n",
    "import pandas as pd\n",
    "import geopandas as gpd\n",
    "from shapely.geometry import Point\n",
    "\n",
    "excel_data = pd.read_excel(\"data.xlsx\", sheet_name=None)\n",
    "\n",
    "for sheet_name, df in excel_data.items():\n",
    "    df = df.dropna(subset=[\"LINTANG\", \"BUJUR\"])\n",
    "    geometry = [Point(xy) for xy in zip(df[\"BUJUR\"], df[\"LINTANG\"])]\n",
    "    gdf = gpd.GeoDataFrame(df, geometry=geometry)\n",
    "    gdf.set_crs(epsg=4326, inplace=True)\n",
    "    filename = f\"{sheet_name.lower()}.geojson\"\n",
    "    gdf.to_file(filename, driver=\"GeoJSON\")"
   ]
  }
 ],
 "metadata": {
  "kernelspec": {
   "display_name": ".venv",
   "language": "python",
   "name": "python3"
  },
  "language_info": {
   "codemirror_mode": {
    "name": "ipython",
    "version": 3
   },
   "file_extension": ".py",
   "mimetype": "text/x-python",
   "name": "python",
   "nbconvert_exporter": "python",
   "pygments_lexer": "ipython3",
   "version": "3.11.2"
  }
 },
 "nbformat": 4,
 "nbformat_minor": 5
}
